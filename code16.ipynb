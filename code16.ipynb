{
 "cells": [
  {
   "cell_type": "code",
   "execution_count": 6,
   "id": "1c8be160",
   "metadata": {},
   "outputs": [
    {
     "name": "stdout",
     "output_type": "stream",
     "text": [
      "Welcome to Python class \n",
      " Welcome to Java class \n",
      " Welcome to Java class \n",
      " Welcome to Java class\n"
     ]
    }
   ],
   "source": [
    "# # File Handling\n",
    "# # file =  open(\"filename\",\"mode\")\n",
    "# # r =  read\n",
    "# # w =  write\n",
    "# # a =  append\n",
    "# # x =  create\n",
    "# # r+ =  read and write\n",
    "\n",
    "# file  = open('data.txt','w')\n",
    "# file.write(\"Welcome to Python class\")\n",
    "# file.close()\n",
    "file  = open('data.txt','a')\n",
    "file.write(\" \\n Welcome to Java class\")\n",
    "file.close()\n",
    "file  = open('data.txt','r')\n",
    "readFile  = file.read()\n",
    "print(readFile)\n"
   ]
  },
  {
   "cell_type": "code",
   "execution_count": null,
   "id": "4a84e031",
   "metadata": {},
   "outputs": [],
   "source": []
  }
 ],
 "metadata": {
  "kernelspec": {
   "display_name": "Python 3",
   "language": "python",
   "name": "python3"
  },
  "language_info": {
   "codemirror_mode": {
    "name": "ipython",
    "version": 3
   },
   "file_extension": ".py",
   "mimetype": "text/x-python",
   "name": "python",
   "nbconvert_exporter": "python",
   "pygments_lexer": "ipython3",
   "version": "3.13.7"
  }
 },
 "nbformat": 4,
 "nbformat_minor": 5
}
