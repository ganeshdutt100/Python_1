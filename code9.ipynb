{
 "cells": [
  {
   "cell_type": "code",
   "execution_count": 4,
   "metadata": {},
   "outputs": [
    {
     "name": "stdout",
     "output_type": "stream",
     "text": [
      " Lorem ipsum dolor sit amet consectetur, \n",
      "adipisicing elit. Odio numquam eligendi nesciunt minima\n",
      " aliquam inventore unde assumenda quos obcaecati, ipsam illo.\n",
      " Sunt accusantium cupiditate, consequuntur quo incidunt vero autem distinctio.\n"
     ]
    }
   ],
   "source": [
    "#String \n",
    "# a = \"Ganesh Dutt\"\n",
    "# a = 'Ganesh Dutt'\n",
    "a = ''' Lorem ipsum dolor sit amet consectetur, \n",
    "adipisicing elit. Odio numquam eligendi nesciunt minima\n",
    " aliquam inventore unde assumenda quos obcaecati, ipsam illo.\n",
    " Sunt accusantium cupiditate, consequuntur quo incidunt vero autem distinctio.'''\n",
    "print(a)"
   ]
  },
  {
   "cell_type": "code",
   "execution_count": 16,
   "id": "2620ed29",
   "metadata": {},
   "outputs": [
    {
     "name": "stdout",
     "output_type": "stream",
     "text": [
      "Stri\n",
      "ng\n",
      "Srn\n",
      "gnirtS\n"
     ]
    }
   ],
   "source": [
    "value  = \"String\"\n",
    "print(value[0 : 4])\n",
    "print(value[4:])\n",
    "print(value[::2])\n",
    "print(value[::-1])\n"
   ]
  },
  {
   "cell_type": "code",
   "execution_count": 21,
   "id": "d69d776b",
   "metadata": {},
   "outputs": [
    {
     "name": "stdout",
     "output_type": "stream",
     "text": [
      "Hello World ,  \n",
      "Hello World ,  Hello World ,  Hello World ,  Hello World ,  \n"
     ]
    }
   ],
   "source": [
    "first  = \"Hello\"\n",
    "second = \"World\"\n",
    "result  = first +\" \"+second + \" ,  \"\n",
    "print(result)\n",
    "print(result * 4)"
   ]
  },
  {
   "cell_type": "code",
   "execution_count": null,
   "id": "8c17699b",
   "metadata": {},
   "outputs": [
    {
     "name": "stdout",
     "output_type": "stream",
     "text": [
      "True\n",
      "False\n"
     ]
    }
   ],
   "source": [
    "value  = \"Hello Python\"\n",
    "print(\"Python\" in value )\n",
    "print(\"Python\" not in value )\n"
   ]
  },
  {
   "cell_type": "code",
   "execution_count": null,
   "id": "c751fba4",
   "metadata": {},
   "outputs": [],
   "source": []
  }
 ],
 "metadata": {
  "kernelspec": {
   "display_name": "Python 3",
   "language": "python",
   "name": "python3"
  },
  "language_info": {
   "codemirror_mode": {
    "name": "ipython",
    "version": 3
   },
   "file_extension": ".py",
   "mimetype": "text/x-python",
   "name": "python",
   "nbconvert_exporter": "python",
   "pygments_lexer": "ipython3",
   "version": "3.13.7"
  }
 },
 "nbformat": 4,
 "nbformat_minor": 5
}
