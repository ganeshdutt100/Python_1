{
 "cells": [
  {
   "cell_type": "code",
   "execution_count": null,
   "id": "3c15bb16",
   "metadata": {},
   "outputs": [
    {
     "name": "stdout",
     "output_type": "stream",
     "text": [
      "1 2 3 4 5 6 7 8 9 10 1 2 3 4 5 6 7 8 9 10 "
     ]
    }
   ],
   "source": [
    "# Syntax\n",
    "# for  variable in sequence:\n",
    "#     code block\n",
    "\n",
    "# Example \n",
    "# for i in range(1, 9):\n",
    "#     print(i, \"Ganesh Dutt\")\n",
    "# for i in \"Ganesh Dutt\":\n",
    "#     print(i)\n",
    "\n",
    "# table = int(input(\"Enter your table number : \"))\n",
    "# for i in range(1,11):\n",
    "#     print(table, \" * \", i , \" = \" ,  (i*table))\n",
    "#2 * 1 = 2\n",
    "\n",
    "for i in range(1,11):\n",
    "    print(i, end=\" \")\n",
    "    # print(\"\\n\")\n",
    "print(\"\\n\")\n",
    "for i in range(1,11):\n",
    "    print(i, end=\" \")   "
   ]
  },
  {
   "cell_type": "code",
   "execution_count": null,
   "id": "7cb27245",
   "metadata": {},
   "outputs": [],
   "source": [
    "# Questions \n",
    "# 1 ->  Print all even numbers between 1 and 20 using a for loop.\n",
    "# 2 -> Print the multiplication table of 7 using a for loop.\n",
    "# 3 -> Print the first 10 natural numbers using a for loop."
   ]
  },
  {
   "cell_type": "code",
   "execution_count": null,
   "id": "84c04b75",
   "metadata": {},
   "outputs": [],
   "source": [
    "# Questions\n",
    "1. Basic Counting\n",
    "\n",
    "Print numbers from 1 to 20 using a for loop.\n",
    "\n",
    "2. Reverse Counting\n",
    "\n",
    "Print numbers from 20 down to 1 using a for loop.\n",
    "\n",
    "3. Even Numbers\n",
    "\n",
    "Print all even numbers between 1 and 50 using a for loop.\n",
    "\n",
    "4. Odd Numbers\n",
    "\n",
    "Print all odd numbers between 1 and 50 using a for loop.\n",
    "\n",
    "5. Sum of Numbers\n",
    "\n",
    "Use a for loop to calculate the sum of numbers from 1 to 100.\n",
    "\n",
    "6. Multiplication Table\n",
    "\n",
    "Print the multiplication table of any number (take input from user) using a for loop.\n",
    "\n",
    "7. String Characters\n",
    "\n",
    "Print each character of a string (e.g., \"Python\") on a new line using a for loop.\n",
    "\n",
    "8. Skip a Number\n",
    "\n",
    "Print numbers from 1 to 10 but skip number 7 using continue.\n",
    "\n",
    "9. Stop at a Number\n",
    "\n",
    "Print numbers from 1 to 10 but stop the loop if the number is 5 using break.\n",
    "\n",
    "10. Factorial\n",
    "\n",
    "Calculate the factorial of a number (e.g., 5) using a for loop."
   ]
  }
 ],
 "metadata": {
  "kernelspec": {
   "display_name": "Python 3",
   "language": "python",
   "name": "python3"
  },
  "language_info": {
   "codemirror_mode": {
    "name": "ipython",
    "version": 3
   },
   "file_extension": ".py",
   "mimetype": "text/x-python",
   "name": "python",
   "nbconvert_exporter": "python",
   "pygments_lexer": "ipython3",
   "version": "3.13.7"
  }
 },
 "nbformat": 4,
 "nbformat_minor": 5
}
