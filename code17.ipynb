{
 "cells": [
  {
   "cell_type": "code",
   "execution_count": 2,
   "id": "1b13ff1d",
   "metadata": {},
   "outputs": [
    {
     "name": "stdout",
     "output_type": "stream",
     "text": [
      "Student notes writer\n",
      "Notes saved successfully\n"
     ]
    }
   ],
   "source": [
    "print(\"Student notes writer\")\n",
    "\n",
    "name  = input(\"Enter your name \")\n",
    "notes  = input(\"Writes your notes :  \")\n",
    "\n",
    "with open(\"students_notes.txt\",\"a\") as file:\n",
    "    file.write(f\"{name} :  {notes}\\n\")\n",
    "print(\"Notes saved successfully\")    \n"
   ]
  },
  {
   "cell_type": "code",
   "execution_count": null,
   "id": "148ec898",
   "metadata": {},
   "outputs": [],
   "source": []
  }
 ],
 "metadata": {
  "kernelspec": {
   "display_name": "Python 3",
   "language": "python",
   "name": "python3"
  },
  "language_info": {
   "codemirror_mode": {
    "name": "ipython",
    "version": 3
   },
   "file_extension": ".py",
   "mimetype": "text/x-python",
   "name": "python",
   "nbconvert_exporter": "python",
   "pygments_lexer": "ipython3",
   "version": "3.13.7"
  }
 },
 "nbformat": 4,
 "nbformat_minor": 5
}
