{
 "cells": [
  {
   "cell_type": "code",
   "execution_count": 3,
   "id": "3ad28099",
   "metadata": {},
   "outputs": [
    {
     "name": "stdout",
     "output_type": "stream",
     "text": [
      "1 2 3 4 5 6 "
     ]
    }
   ],
   "source": [
    "for i in range(1, 7):\n",
    "      print(i , end=\" \")"
   ]
  },
  {
   "cell_type": "code",
   "execution_count": 6,
   "id": "82e03c63",
   "metadata": {},
   "outputs": [
    {
     "name": "stdout",
     "output_type": "stream",
     "text": [
      "5\n",
      "6\n",
      "7\n",
      "8\n",
      "9\n",
      "10\n"
     ]
    }
   ],
   "source": [
    "# Syntax\n",
    "# while condition:\n",
    "    # code to be executed\n",
    "count  = 5\n",
    "while count<=  10:\n",
    "    print(count)\n",
    "    count += 1"
   ]
  },
  {
   "cell_type": "code",
   "execution_count": 11,
   "id": "813ca39d",
   "metadata": {},
   "outputs": [
    {
     "name": "stdout",
     "output_type": "stream",
     "text": [
      "i =   1  j  =   1\n",
      "i =   1  j  =   2\n",
      "i =   1  j  =   3\n",
      "i =   1  j  =   4\n",
      "i =   1  j  =   5\n",
      "i =   2  j  =   1\n",
      "i =   2  j  =   2\n",
      "i =   2  j  =   3\n",
      "i =   2  j  =   4\n",
      "i =   2  j  =   5\n",
      "i =   3  j  =   1\n",
      "i =   3  j  =   2\n",
      "i =   3  j  =   3\n",
      "i =   3  j  =   4\n",
      "i =   3  j  =   5\n"
     ]
    }
   ],
   "source": [
    "# Nested Loop\n",
    "for i in range(1 , 4):\n",
    "   for j in range(1,6):\n",
    "      print(\"i =  \", i ,  \" j  =  \", j)\n"
   ]
  },
  {
   "cell_type": "code",
   "execution_count": null,
   "id": "77cb8fab",
   "metadata": {},
   "outputs": [],
   "source": [
    "# 1 to 5  =>  , 1+2+3+4+5 = 15"
   ]
  }
 ],
 "metadata": {
  "kernelspec": {
   "display_name": "Python 3",
   "language": "python",
   "name": "python3"
  },
  "language_info": {
   "codemirror_mode": {
    "name": "ipython",
    "version": 3
   },
   "file_extension": ".py",
   "mimetype": "text/x-python",
   "name": "python",
   "nbconvert_exporter": "python",
   "pygments_lexer": "ipython3",
   "version": "3.13.7"
  }
 },
 "nbformat": 4,
 "nbformat_minor": 5
}
