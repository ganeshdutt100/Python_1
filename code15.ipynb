{
 "cells": [
  {
   "cell_type": "code",
   "execution_count": 11,
   "id": "534e8460",
   "metadata": {},
   "outputs": [
    {
     "name": "stdout",
     "output_type": "stream",
     "text": [
      "30\n",
      "70\n",
      "200\n"
     ]
    }
   ],
   "source": [
    "# Function \n",
    "# def function_name(parameters):\n",
    "#     code block\n",
    "#     return result\n",
    "\n",
    "# def greet():\n",
    "#     print(\"Welcome to Python class\")\n",
    "\n",
    "# greet()    \n",
    "# greet()    \n",
    "# greet()    \n",
    "# greet()    \n",
    "# greet()    \n",
    "\n",
    "\n",
    "# def add():\n",
    "#     a = 10\n",
    "#     b = 20\n",
    "#     print(a+b)\n",
    "# add()    \n",
    "\n",
    "# a = 10\n",
    "# b = 20\n",
    "# print(a+b)\n",
    "\n",
    "# 100\n",
    "\n",
    "def add(a,b):\n",
    "    sum = a+b\n",
    "    print(sum)\n",
    "\n",
    "add(10,20)    \n",
    "add(40,30)    \n",
    "\n",
    "\n",
    "def multiply(a,b):\n",
    "    return a*b\n",
    "# result = multiply(10,20)\n",
    "# print(result)\n",
    "print(multiply(10,20))"
   ]
  },
  {
   "cell_type": "code",
   "execution_count": 13,
   "id": "ce6dd2b4",
   "metadata": {},
   "outputs": [
    {
     "name": "stdout",
     "output_type": "stream",
     "text": [
      "Name  xyz\n",
      "Age  25\n"
     ]
    }
   ],
   "source": [
    "def user(name , age):\n",
    "    print(\"Name \" , name)\n",
    "    print(\"Age \" , age)\n",
    "user(\"xyz\",25)    "
   ]
  },
  {
   "cell_type": "code",
   "execution_count": 18,
   "id": "77d38c97",
   "metadata": {},
   "outputs": [
    {
     "name": "stdout",
     "output_type": "stream",
     "text": [
      "Welcome  Ganesh Dutt\n",
      "Welcome  xyz\n"
     ]
    }
   ],
   "source": [
    "def greet(name=\"Ganesh Dutt\"):\n",
    "    print(\"Welcome \" , name)\n",
    "greet()\n",
    "greet(\"xyz\")"
   ]
  },
  {
   "cell_type": "code",
   "execution_count": null,
   "id": "f34c08e1",
   "metadata": {},
   "outputs": [],
   "source": []
  }
 ],
 "metadata": {
  "kernelspec": {
   "display_name": "Python 3",
   "language": "python",
   "name": "python3"
  },
  "language_info": {
   "codemirror_mode": {
    "name": "ipython",
    "version": 3
   },
   "file_extension": ".py",
   "mimetype": "text/x-python",
   "name": "python",
   "nbconvert_exporter": "python",
   "pygments_lexer": "ipython3",
   "version": "3.13.7"
  }
 },
 "nbformat": 4,
 "nbformat_minor": 5
}
