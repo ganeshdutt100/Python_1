{
 "cells": [
  {
   "cell_type": "code",
   "execution_count": 4,
   "id": "bc004011",
   "metadata": {},
   "outputs": [
    {
     "name": "stdout",
     "output_type": "stream",
     "text": [
      "S\n"
     ]
    }
   ],
   "source": [
    "name  = \"Punnet Sharma\"\n",
    "print(name[7])"
   ]
  },
  {
   "cell_type": "code",
   "execution_count": null,
   "id": "4754eae1",
   "metadata": {},
   "outputs": [
    {
     "name": "stdout",
     "output_type": "stream",
     "text": [
      "True\n",
      "False\n",
      "False\n",
      "True\n"
     ]
    }
   ],
   "source": [
    "text = \"Ganesh\"\n",
    "print(text.isalpha())\n",
    "print(text.isdigit())\n",
    "print(text.islower())\n",
    "print(text.islower())\n",
    "print(text.isupper())"
   ]
  },
  {
   "cell_type": "code",
   "execution_count": 23,
   "id": "f4b30f2d",
   "metadata": {},
   "outputs": [
    {
     "name": "stdout",
     "output_type": "stream",
     "text": [
      "Hello \\ World\n"
     ]
    }
   ],
   "source": [
    "text =  \"Hello \\\\ World\"\n",
    "print(text)"
   ]
  },
  {
   "cell_type": "code",
   "execution_count": null,
   "id": "e4523ee1",
   "metadata": {},
   "outputs": [
    {
     "name": "stdout",
     "output_type": "stream",
     "text": [
      "P y t h o n "
     ]
    }
   ],
   "source": [
    "# text = \"Python\"\n",
    "# # for i in text:\n",
    "# #     print(i, end = \" \")\n",
    "\n",
    "# i = 0\n",
    "# while i < len(text):\n",
    "#     print(text[i], end=\" \")\n",
    "#     i+=1\n"
   ]
  },
  {
   "cell_type": "code",
   "execution_count": null,
   "id": "38777e7b",
   "metadata": {},
   "outputs": [
    {
     "name": "stdout",
     "output_type": "stream",
     "text": [
      "Python\n"
     ]
    }
   ],
   "source": [
    "# text = \"Jython\"\n",
    "# # text[0] = \"P\"\n",
    "# new_text = \"P\" + text[1:]\n",
    "# print(new_text)"
   ]
  },
  {
   "cell_type": "code",
   "execution_count": null,
   "id": "cb4c3451",
   "metadata": {},
   "outputs": [
    {
     "name": "stdout",
     "output_type": "stream",
     "text": [
      "123\n"
     ]
    }
   ],
   "source": [
    "# text = 123\n",
    "# new_text = str(text)\n",
    "# # output = new_text + 5\n",
    "# print(new_text)"
   ]
  },
  {
   "cell_type": "code",
   "execution_count": null,
   "id": "52bbd1a2",
   "metadata": {},
   "outputs": [
    {
     "name": "stdout",
     "output_type": "stream",
     "text": [
      "128\n"
     ]
    }
   ],
   "source": [
    "# text = \"123\"\n",
    "# new_text = int(text) + 5\n",
    "# # output = new_text + 5\n",
    "# print(new_text)"
   ]
  },
  {
   "cell_type": "code",
   "execution_count": null,
   "id": "406069c1",
   "metadata": {},
   "outputs": [
    {
     "name": "stdout",
     "output_type": "stream",
     "text": [
      "python\n",
      "['p', 'y', 't', 'h', 'o', 'n']\n"
     ]
    }
   ],
   "source": [
    "# text = \"python\"\n",
    "# new_text  = list(text)\n",
    "# print(text)\n",
    "# print(new_text)"
   ]
  },
  {
   "cell_type": "code",
   "execution_count": null,
   "id": "0ea32e17",
   "metadata": {},
   "outputs": [
    {
     "name": "stdout",
     "output_type": "stream",
     "text": [
      "3\n"
     ]
    }
   ],
   "source": [
    "# 1. Write a program to count the number of vowels in a string.\n",
    "# name  = input(\"Enter your name : \")\n",
    "# vowels = \"aeiouAEIOU\" \n",
    "# count = 0\n",
    "# for ch in name:\n",
    "#     if ch in vowels:\n",
    "#         count += 1\n",
    "# print(count )\n",
    "# 2. Reverse a string without using slicing.\n",
    "# 3. Check if a string is a palindrome.\n",
    "# 4. Convert \"hello world\" to \"Hello World\" using string methods.\n",
    "# 5. Write a program to find the most frequently occurring character in a\n",
    "# string.\n",
    "\n"
   ]
  },
  {
   "cell_type": "code",
   "execution_count": null,
   "id": "d0908098",
   "metadata": {},
   "outputs": [],
   "source": [
    "# 5. Write a program to find the most frequently occurring character in a string.\n",
    "string  =  \"programming\"\n",
    "maxCount = 0\n",
    "mostFrequently =''\n",
    "\n",
    "for char in string:\n",
    "    if char != ' ':\n",
    "        count = 0\n",
    "\n",
    "        for ch in string:\n",
    "            if ch == char:\n",
    "                count += 1\n",
    "\n",
    "        if count > maxCount:   \n",
    "            maxCount = count    \n",
    "            mostFrequently = char\n",
    "\n",
    "print(mostFrequently) \n",
    "print(maxCount) "
   ]
  }
 ],
 "metadata": {
  "kernelspec": {
   "display_name": "Python 3",
   "language": "python",
   "name": "python3"
  },
  "language_info": {
   "codemirror_mode": {
    "name": "ipython",
    "version": 3
   },
   "file_extension": ".py",
   "mimetype": "text/x-python",
   "name": "python",
   "nbconvert_exporter": "python",
   "pygments_lexer": "ipython3",
   "version": "3.13.7"
  }
 },
 "nbformat": 4,
 "nbformat_minor": 5
}
