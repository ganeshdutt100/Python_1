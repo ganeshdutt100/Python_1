{
 "cells": [
  {
   "cell_type": "code",
   "execution_count": 3,
   "id": "eb62f7a1",
   "metadata": {},
   "outputs": [
    {
     "name": "stdout",
     "output_type": "stream",
     "text": [
      "Students Marks Manager\n",
      " \n",
      " Students Details \n",
      "a1 , 12.0 marks\n",
      "a2 , 13.0 marks\n",
      "a3 , 14.0 marks\n",
      " \n",
      " Result \n",
      "Total number of students are 3\n",
      "Highest marks :  14.0\n",
      "Lowest marks :  12.0\n"
     ]
    }
   ],
   "source": [
    "print(\"Students Marks Manager\")\n",
    "\n",
    "students = []\n",
    "marks = []\n",
    "\n",
    "n = int(input(\"Enter number of students \"))\n",
    "\n",
    "for i in range(n):\n",
    "    name =  input(f\"Enter name of students {i+1}:\")\n",
    "    mark =  float(input(f\"Enter marks of {name}:\"))\n",
    "    students.append(name)\n",
    "    marks.append(mark)\n",
    "\n",
    "\n",
    "print(\" \\n Students Details \")\n",
    "for i in range(n):\n",
    "    print(f\"{students[i]} , {marks[i]} marks\")\n",
    "\n",
    "# calculations  \n",
    "print(\" \\n Result \")\n",
    "print(f\"Total number of students are {len(students)}\")\n",
    "print(f\"Highest marks :  {max(marks)}\")\n",
    "print(f\"Lowest marks :  {min(marks)}\")\n",
    "\n",
    "\n",
    "  \n"
   ]
  },
  {
   "cell_type": "code",
   "execution_count": null,
   "id": "1adf8ac1",
   "metadata": {},
   "outputs": [],
   "source": []
  }
 ],
 "metadata": {
  "kernelspec": {
   "display_name": "Python 3",
   "language": "python",
   "name": "python3"
  },
  "language_info": {
   "codemirror_mode": {
    "name": "ipython",
    "version": 3
   },
   "file_extension": ".py",
   "mimetype": "text/x-python",
   "name": "python",
   "nbconvert_exporter": "python",
   "pygments_lexer": "ipython3",
   "version": "3.13.7"
  }
 },
 "nbformat": 4,
 "nbformat_minor": 5
}
