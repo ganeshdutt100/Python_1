{
 "cells": [
  {
   "cell_type": "code",
   "execution_count": 1,
   "id": "5ec85c80",
   "metadata": {},
   "outputs": [
    {
     "name": "stdout",
     "output_type": "stream",
     "text": [
      "Hello World!\n"
     ]
    }
   ],
   "source": [
    "print('Hello World!')\n"
   ]
  },
  {
   "cell_type": "code",
   "execution_count": 2,
   "id": "ec5b6723",
   "metadata": {},
   "outputs": [],
   "source": [
    "a = \"Ganesh dutt\""
   ]
  },
  {
   "cell_type": "code",
   "execution_count": 8,
   "id": "f80b2bcd",
   "metadata": {},
   "outputs": [
    {
     "name": "stdout",
     "output_type": "stream",
     "text": [
      "10 <class 'int'>\n"
     ]
    }
   ],
   "source": [
    "x = 10\n",
    "print(x , type(x))"
   ]
  },
  {
   "cell_type": "code",
   "execution_count": 9,
   "id": "cd242044",
   "metadata": {},
   "outputs": [
    {
     "name": "stdout",
     "output_type": "stream",
     "text": [
      "Ganesh Dutt <class 'str'>\n"
     ]
    }
   ],
   "source": [
    "x = \"Ganesh Dutt\"\n",
    "print(x, type(x))"
   ]
  },
  {
   "cell_type": "code",
   "execution_count": 10,
   "id": "a386e8f7",
   "metadata": {},
   "outputs": [
    {
     "name": "stdout",
     "output_type": "stream",
     "text": [
      "26.0 <class 'float'>\n"
     ]
    }
   ],
   "source": [
    "value1 = 12.6\n",
    "value2 = 13.4\n",
    "print(value1 + value2 , type(value1 + value2))"
   ]
  },
  {
   "cell_type": "code",
   "execution_count": 11,
   "id": "660f25e6",
   "metadata": {},
   "outputs": [
    {
     "name": "stdout",
     "output_type": "stream",
     "text": [
      "True <class 'bool'>\n",
      "False\n"
     ]
    }
   ],
   "source": [
    "is_Active=  True\n",
    "is_Inactive= False\n",
    "print(is_Active , type(is_Active))\n",
    "print(is_Inactive)\n"
   ]
  },
  {
   "cell_type": "code",
   "execution_count": null,
   "id": "85382429",
   "metadata": {},
   "outputs": [
    {
     "name": "stdout",
     "output_type": "stream",
     "text": [
      "Name :   Ganesh Dutt AGe  25\n"
     ]
    }
   ],
   "source": [
    "name = \"Ganesh Dutt\"\n",
    "age = 25\n",
    "print(\"Name :  \",  name ,\"Age \", age )"
   ]
  },
  {
   "cell_type": "code",
   "execution_count": 15,
   "id": "446bda14",
   "metadata": {},
   "outputs": [
    {
     "name": "stdout",
     "output_type": "stream",
     "text": [
      "ganesh\n"
     ]
    }
   ],
   "source": [
    "name  = input(\"Enter your name : \")\n",
    "print(name )"
   ]
  },
  {
   "cell_type": "code",
   "execution_count": 17,
   "id": "8761844a",
   "metadata": {},
   "outputs": [
    {
     "name": "stdout",
     "output_type": "stream",
     "text": [
      "24\n"
     ]
    }
   ],
   "source": [
    "a = int(input(\"Enter your first number : \"))\n",
    "b = int(input(\"Enter your second number : \"))\n",
    "print(a+b)\n"
   ]
  },
  {
   "cell_type": "code",
   "execution_count": null,
   "id": "69658e9d",
   "metadata": {},
   "outputs": [],
   "source": []
  }
 ],
 "metadata": {
  "kernelspec": {
   "display_name": "Python 3",
   "language": "python",
   "name": "python3"
  },
  "language_info": {
   "codemirror_mode": {
    "name": "ipython",
    "version": 3
   },
   "file_extension": ".py",
   "mimetype": "text/x-python",
   "name": "python",
   "nbconvert_exporter": "python",
   "pygments_lexer": "ipython3",
   "version": "3.13.5"
  }
 },
 "nbformat": 4,
 "nbformat_minor": 5
}
