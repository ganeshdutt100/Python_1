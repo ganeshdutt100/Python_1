{
 "cells": [
  {
   "cell_type": "code",
   "execution_count": null,
   "id": "a989b3de",
   "metadata": {},
   "outputs": [],
   "source": [
    "#  String Analyzer Tool\n",
    "#  Goal  = Ek Python program jo user se koi string input le aur uske upar multiple string operations perform kare — jaise length, case change, word count, reverse, slicing, etc.\n",
    "\n",
    "#  Concepts Used\n",
    "\n",
    "#  String creation\n",
    "#  Indexing & slicing\n",
    "#  String methods (upper(), lower(), title(), replace(), split(), join())\n",
    "#  Membership (in, not in)\n",
    "#  f-string formatting\n",
    "\n",
    "#  Take input from user \n",
    "\n",
    "# display basic information \n",
    "# case conversions\n",
    "# reverse and Slicing \n",
    "# word Operations\n",
    "# join with Hython \n",
    "# Replace \n",
    "# Membership (in, not in)\n",
    "# Summary\n"
   ]
  },
  {
   "cell_type": "code",
   "execution_count": null,
   "id": "32c8a7a4",
   "metadata": {},
   "outputs": [],
   "source": []
  }
 ],
 "metadata": {
  "kernelspec": {
   "display_name": "Python 3",
   "language": "python",
   "name": "python3"
  },
  "language_info": {
   "codemirror_mode": {
    "name": "ipython",
    "version": 3
   },
   "file_extension": ".py",
   "mimetype": "text/x-python",
   "name": "python",
   "nbconvert_exporter": "python",
   "pygments_lexer": "ipython3",
   "version": "3.13.7"
  }
 },
 "nbformat": 4,
 "nbformat_minor": 5
}
