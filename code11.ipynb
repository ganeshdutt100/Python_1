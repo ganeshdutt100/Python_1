{
 "cells": [
  {
   "cell_type": "code",
   "execution_count": 3,
   "id": "b46a4c81",
   "metadata": {},
   "outputs": [
    {
     "name": "stdout",
     "output_type": "stream",
     "text": [
      "r\n",
      "3\n"
     ]
    }
   ],
   "source": [
    "# 5. Write a program to find the most frequently occurring character in a string.\n",
    "string  =  \"parogrammingr\"\n",
    "maxCount = 0\n",
    "mostFrequently =''\n",
    "\n",
    "for char in string:\n",
    "    if char != ' ':\n",
    "        count = 0\n",
    "\n",
    "        for ch in string:\n",
    "            if ch == char:\n",
    "                count += 1\n",
    "\n",
    "        if count > maxCount:   \n",
    "            maxCount = count    \n",
    "            mostFrequently = char\n",
    "\n",
    "print(mostFrequently) \n",
    "print(maxCount) "
   ]
  },
  {
   "cell_type": "code",
   "execution_count": null,
   "id": "e55a9f80",
   "metadata": {},
   "outputs": [],
   "source": [
    "# Questions \n",
    "# 1 -Find the Largest of Two Numbers\n",
    "# Take two numbers as input and print which one is greater.\n",
    "\n",
    "# 2 - Swap Two Numbers\n",
    "# Take two numbers from the user and swap them without using a third variable.\n",
    "\n",
    "# 3 -Sum of Natural Numbers\n",
    "# Find the sum of all natural numbers from 1 to n (user input).\n",
    "\n",
    "# 4 -Factorial of a Number\n",
    "# Write a program to find the factorial of a number using a loop.\n",
    "\n",
    "# 5 -Check Prime Number\n",
    "# Check whether a given number is prime or not.\n",
    "\n",
    "# 6-Fibonacci Series\n",
    "# Print the Fibonacci series up to n terms.\n",
    "# (Example → 0, 1, 1, 2, 3, 5, 8, …)"
   ]
  }
 ],
 "metadata": {
  "kernelspec": {
   "display_name": "Python 3",
   "language": "python",
   "name": "python3"
  },
  "language_info": {
   "codemirror_mode": {
    "name": "ipython",
    "version": 3
   },
   "file_extension": ".py",
   "mimetype": "text/x-python",
   "name": "python",
   "nbconvert_exporter": "python",
   "pygments_lexer": "ipython3",
   "version": "3.13.7"
  }
 },
 "nbformat": 4,
 "nbformat_minor": 5
}
