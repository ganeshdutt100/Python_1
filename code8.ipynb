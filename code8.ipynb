{
 "cells": [
  {
   "cell_type": "code",
   "execution_count": 15,
   "id": "80c138e4",
   "metadata": {},
   "outputs": [
    {
     "name": "stdout",
     "output_type": "stream",
     "text": [
      "         1 \n",
      "       2 3 2 \n",
      "     3 4 5 4 3 \n",
      "   4 5 6 7 6 5 4 \n",
      " 5 6 7 8 9 8 7 6 5 \n"
     ]
    }
   ],
   "source": [
    "# Question 3 = Program to print pyramid using numbers\n",
    "#         1\n",
    "#       2 3 2\n",
    "#     3 4 5 4 3\n",
    "#   4 5 6 7 6 5 4\n",
    "# 5 6 7 8 9 8 7 6 5\n",
    "rows  = 5\n",
    "for i in range(1 , rows +1):\n",
    "    print(\"  \"* (rows-i), end=\" \")\n",
    "\n",
    "    for j in range(i, i*2):\n",
    "        print(j, end=\" \")\n",
    "\n",
    "    for j in range(2*i-2,i -1, -1):\n",
    "        print(j, end=\" \")  \n",
    "\n",
    "    print()\n",
    "\n"
   ]
  },
  {
   "cell_type": "code",
   "execution_count": null,
   "id": "2ca1c8af",
   "metadata": {},
   "outputs": [
    {
     "name": "stdout",
     "output_type": "stream",
     "text": [
      "         1 \n",
      "        1 1 \n",
      "       1 2 1 \n",
      "      1 3 3 1 \n",
      "     1 4 6 4 1 \n",
      "    1 5 10 10 5 1 \n"
     ]
    }
   ],
   "source": [
    "#            1\n",
    "#          1   1\n",
    "#        1   2   1\n",
    "#      1   3   3    1\n",
    "#    1   4   6   4   1\n",
    "#  1   5   10   10  5   1\n",
    "\n",
    "rows = 6\n",
    "for i in range(rows): \n",
    "    print(\" \" *(rows-i), end=\"   \")\n",
    "    \n",
    "    num = 1\n",
    "    for j in range(i+1):\n",
    "\n",
    "        print(num, end=\" \") # 1 3 3 1\n",
    "        num  = num*(i-j)//(j+1)\n",
    "\n",
    "      \n",
    "           \n",
    "    print()\n",
    "\n",
    "#  next = num * (i - j)//(j+1):\n",
    "\n",
    "# row  = 3  ,  i = 3\n",
    " #     (3-0)/(0+1) =3    = 1                      - 0\n",
    "# 1 * (3 - 0)/(0+1)= 1 * 3/1 = 3  - 1\n",
    "# 3 * (3 - 1)/(1+1)= 3 * 2/2 = 3  - 2\n",
    "# 3 * (3 - 2)/(2+1)=  3 * 1/3 = 1 -  3\n",
    "\n",
    "\n",
    "# row  = 4  ,  i = 4\n",
    "\n",
    "# 1 * (4 - 0)/(0+1)= 1 * 4/1 = 4\n",
    "# 4 * (4 - 1)/(1+1)= 4 * 3/2 = 6 \n",
    "# 6 * (4 - 2)/(2+1)= 6 * 2/3 = 4 \n",
    "# 4 * (4 - 3)/(3+1)= 4 * 1/4 = 1 \n"
   ]
  },
  {
   "cell_type": "code",
   "execution_count": null,
   "id": "0370d793",
   "metadata": {},
   "outputs": [],
   "source": []
  }
 ],
 "metadata": {
  "kernelspec": {
   "display_name": "Python 3",
   "language": "python",
   "name": "python3"
  },
  "language_info": {
   "codemirror_mode": {
    "name": "ipython",
    "version": 3
   },
   "file_extension": ".py",
   "mimetype": "text/x-python",
   "name": "python",
   "nbconvert_exporter": "python",
   "pygments_lexer": "ipython3",
   "version": "3.13.7"
  }
 },
 "nbformat": 4,
 "nbformat_minor": 5
}
