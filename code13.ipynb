{
 "cells": [
  {
   "cell_type": "code",
   "execution_count": 4,
   "id": "b22e6e26",
   "metadata": {},
   "outputs": [
    {
     "name": "stdout",
     "output_type": "stream",
     "text": [
      "['apple', 'mango', 'cherry']\n"
     ]
    }
   ],
   "source": [
    "# List\n",
    "fruits  =  [\"apple\", \"banana\", \"cherry\"]\n",
    "fruits[1] = \"mango\"\n",
    "print(fruits)"
   ]
  },
  {
   "cell_type": "code",
   "execution_count": null,
   "id": "bf6db3c2",
   "metadata": {},
   "outputs": [
    {
     "name": "stdout",
     "output_type": "stream",
     "text": [
      "[1, 3, 5, 7, 9]\n"
     ]
    }
   ],
   "source": [
    "number = [1, 2, 3, 4, 5,6,7,8,9]\n",
    "print(number[1:4])\n",
    "print(number[:4])\n",
    "print(number[4:])\n",
    "print(number[::2])"
   ]
  },
  {
   "cell_type": "code",
   "execution_count": null,
   "id": "689f028f",
   "metadata": {},
   "outputs": [
    {
     "name": "stdout",
     "output_type": "stream",
     "text": [
      "3\n",
      "12\n",
      "5\n",
      "7\n",
      "1\n",
      "3\n",
      "4\n",
      "2\n",
      "3\n",
      "3\n",
      "78\n"
     ]
    }
   ],
   "source": [
    "items =[3, 12,5,7,1,3,4,2,3,3, 78]\n",
    "# items.append(60)\n",
    "# items.insert(2 , 22)\n",
    "# items.pop() #index\n",
    "# items.remove(10) #value\n",
    "# items.clear()\n",
    "# items.sort()\n",
    "# items.index(5)\n",
    "# print(items.index(5))\n",
    "# print(items.count(3))\n",
    "# for i in items:\n",
    "#     print(i)"
   ]
  },
  {
   "cell_type": "markdown",
   "id": "c19dfcf5",
   "metadata": {},
   "source": []
  },
  {
   "cell_type": "code",
   "execution_count": null,
   "id": "72f81cd6",
   "metadata": {},
   "outputs": [],
   "source": []
  },
  {
   "cell_type": "code",
   "execution_count": 36,
   "id": "8a0e5953",
   "metadata": {},
   "outputs": [
    {
     "name": "stdout",
     "output_type": "stream",
     "text": [
      "1 1 1 1 \n",
      "2 2 28 2 \n",
      "3 3 3 3 3 3 \n"
     ]
    }
   ],
   "source": [
    "nestedList  = [\n",
    "                [1,1,1,1],\n",
    "                [ 2, 2, 28, 2],\n",
    "                [ 3, 3, 3,3,3,3]\n",
    "                ]\n",
    "# print(nestedList[1][2])\n",
    "for row in nestedList:\n",
    "    for col in row:\n",
    "      print(col , end=\" \")\n",
    "    print()  "
   ]
  },
  {
   "cell_type": "markdown",
   "id": "d5782b78",
   "metadata": {},
   "source": []
  },
  {
   "cell_type": "code",
   "execution_count": 38,
   "id": "576e5147",
   "metadata": {},
   "outputs": [
    {
     "name": "stdout",
     "output_type": "stream",
     "text": [
      "20\n"
     ]
    }
   ],
   "source": [
    "#Tuples\n",
    "number  =  (10,20,30)\n",
    "print(number[1])"
   ]
  },
  {
   "cell_type": "code",
   "execution_count": null,
   "id": "948f92bf",
   "metadata": {},
   "outputs": [],
   "source": [
    "# syntax  = list[] , tuple()\n",
    "#            yes      , no \n",
    "#            append,insert ,|| no     "
   ]
  }
 ],
 "metadata": {
  "kernelspec": {
   "display_name": "Python 3",
   "language": "python",
   "name": "python3"
  },
  "language_info": {
   "codemirror_mode": {
    "name": "ipython",
    "version": 3
   },
   "file_extension": ".py",
   "mimetype": "text/x-python",
   "name": "python",
   "nbconvert_exporter": "python",
   "pygments_lexer": "ipython3",
   "version": "3.13.7"
  }
 },
 "nbformat": 4,
 "nbformat_minor": 5
}
