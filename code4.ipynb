{
 "cells": [
  {
   "cell_type": "code",
   "execution_count": null,
   "id": "0866cb23",
   "metadata": {},
   "outputs": [
    {
     "name": "stdout",
     "output_type": "stream",
     "text": [
      "first\n"
     ]
    }
   ],
   "source": [
    "#6. Greatest of Three Numbers\n",
    "#Take three numbers and print the greatest among them using nested if.\n",
    "a = int(input(\"Enter your first number : \"))\n",
    "b = int(input(\"Enter your second number : \"))\n",
    "c = int(input(\"Enter your third number : \"))\n",
    "\n",
    "# print( a , b, c)\n",
    "\n",
    "if a>b:\n",
    "    if a>c:\n",
    "        print(\"first\")\n",
    "    else:\n",
    "        print(\"third\")\n",
    "else:\n",
    "    if b>c:\n",
    "        print(\"Second\")\n",
    "    else:\n",
    "        print(\"Third\")"
   ]
  },
  {
   "cell_type": "code",
   "execution_count": null,
   "id": "e27e8dfb",
   "metadata": {},
   "outputs": [],
   "source": []
  }
 ],
 "metadata": {
  "kernelspec": {
   "display_name": "Python 3",
   "language": "python",
   "name": "python3"
  },
  "language_info": {
   "codemirror_mode": {
    "name": "ipython",
    "version": 3
   },
   "file_extension": ".py",
   "mimetype": "text/x-python",
   "name": "python",
   "nbconvert_exporter": "python",
   "pygments_lexer": "ipython3",
   "version": "3.13.7"
  }
 },
 "nbformat": 4,
 "nbformat_minor": 5
}
