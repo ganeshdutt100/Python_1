{
 "cells": [
  {
   "cell_type": "code",
   "execution_count": 4,
   "id": "3eaea6f9",
   "metadata": {},
   "outputs": [
    {
     "name": "stdout",
     "output_type": "stream",
     "text": [
      "a is odd\n"
     ]
    }
   ],
   "source": [
    "#Conditional Statements\n",
    "\n",
    "a = 5\n",
    "if a % 2 == 0:\n",
    "    print(\"a is even\") #True \n",
    "else:\n",
    "    print(\"a is odd\") #False"
   ]
  },
  {
   "cell_type": "code",
   "execution_count": null,
   "id": "0d50dd4c",
   "metadata": {},
   "outputs": [
    {
     "name": "stdout",
     "output_type": "stream",
     "text": [
      "You are eligible to vote\n"
     ]
    }
   ],
   "source": [
    "age = 22\n",
    "if age >= 18:\n",
    "    print(\"You are eligible to vote\")\n",
    "else:\n",
    "    print(\"You are not eligible to vote\")"
   ]
  },
  {
   "cell_type": "code",
   "execution_count": 12,
   "id": "7aea26d7",
   "metadata": {},
   "outputs": [
    {
     "name": "stdout",
     "output_type": "stream",
     "text": [
      "Grade A\n"
     ]
    }
   ],
   "source": [
    "#if-elif-else\n",
    "marks = 89\n",
    "\n",
    "if marks >= 80:\n",
    "    print(\"Grade A\")\n",
    "elif marks  >= 70:\n",
    "    print(\"Grade B\")\n",
    "elif marks >= 50:\n",
    "    print(\"Grade C\")\n",
    "\n",
    "else:\n",
    "    print(\"Fail\")    "
   ]
  },
  {
   "cell_type": "code",
   "execution_count": null,
   "id": "d67c6d0d",
   "metadata": {},
   "outputs": [],
   "source": []
  }
 ],
 "metadata": {
  "kernelspec": {
   "display_name": "Python 3",
   "language": "python",
   "name": "python3"
  },
  "language_info": {
   "codemirror_mode": {
    "name": "ipython",
    "version": 3
   },
   "file_extension": ".py",
   "mimetype": "text/x-python",
   "name": "python",
   "nbconvert_exporter": "python",
   "pygments_lexer": "ipython3",
   "version": "3.13.5"
  }
 },
 "nbformat": 4,
 "nbformat_minor": 5
}
