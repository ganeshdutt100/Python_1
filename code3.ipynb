{
 "cells": [
  {
   "cell_type": "code",
   "execution_count": 4,
   "id": "3eaea6f9",
   "metadata": {},
   "outputs": [
    {
     "name": "stdout",
     "output_type": "stream",
     "text": [
      "a is odd\n"
     ]
    }
   ],
   "source": [
    "#Conditional Statements\n",
    "\n",
    "a = 5\n",
    "if a % 2 == 0:\n",
    "    print(\"a is even\") #True \n",
    "else:\n",
    "    print(\"a is odd\") #False"
   ]
  },
  {
   "cell_type": "code",
   "execution_count": null,
   "id": "0d50dd4c",
   "metadata": {},
   "outputs": [
    {
     "name": "stdout",
     "output_type": "stream",
     "text": [
      "You are eligible to vote\n"
     ]
    }
   ],
   "source": [
    "age = 22\n",
    "if age >= 18:\n",
    "    print(\"You are eligible to vote\")\n",
    "else:\n",
    "    print(\"You are not eligible to vote\")"
   ]
  },
  {
   "cell_type": "code",
   "execution_count": 19,
   "id": "7aea26d7",
   "metadata": {},
   "outputs": [
    {
     "name": "stdout",
     "output_type": "stream",
     "text": [
      "Grade C\n"
     ]
    }
   ],
   "source": [
    "#if-elif-else\n",
    "marks = 69\n",
    "\n",
    "if marks >= 80:\n",
    "    print(\"Grade A\")\n",
    "elif marks  >= 70:\n",
    "    print(\"Grade B\")\n",
    "elif marks >= 50:\n",
    "    print(\"Grade C\")\n",
    "\n",
    "else:\n",
    "    print(\"Fail\")    "
   ]
  },
  {
   "cell_type": "code",
   "execution_count": null,
   "id": "d67c6d0d",
   "metadata": {},
   "outputs": [
    {
     "name": "stdout",
     "output_type": "stream",
     "text": [
      "Login successful\n"
     ]
    }
   ],
   "source": [
    "username = input(\"Enter username: \")\n",
    "password = input(\"Enter password: \")\n",
    "\n",
    "if username == \"ganeshdutt12\":\n",
    "  if password == \"admin12345\":\n",
    "    print(\"Login successful\")\n",
    "  else:\n",
    "    print(\"Invalid password\")\n",
    "else:\n",
    "    print(\"Invalid username\")"
   ]
  },
  {
   "cell_type": "code",
   "execution_count": 22,
   "id": "466d3127",
   "metadata": {},
   "outputs": [
    {
     "name": "stdout",
     "output_type": "stream",
     "text": [
      "The number is zero.\n"
     ]
    }
   ],
   "source": [
    "#Write a program to check if a number is positive, negative, or zero.\n",
    "num = 0\n",
    "\n",
    "if num > 0:\n",
    "    print(\"The number is positive.\")\n",
    "elif num < 0:\n",
    "    print(\"The number is negative.\")\n",
    "else:\n",
    "    print(\"The number is zero.\")"
   ]
  },
  {
   "cell_type": "code",
   "execution_count": 25,
   "id": "999c8804",
   "metadata": {},
   "outputs": [
    {
     "name": "stdout",
     "output_type": "stream",
     "text": [
      "You Passed the Exam\n",
      "GradC\n"
     ]
    }
   ],
   "source": [
    "# Students Grade Nested \n",
    "# num > =33\n",
    "# print \n",
    "# else:\n",
    "# print(\"fail\")\n",
    "marks = 50\n",
    "if marks >= 33:\n",
    "    print(\"You Passed the Exam\")\n",
    "    if marks >= 75:\n",
    "        print(\"GradA\")\n",
    "    elif marks >= 60:\n",
    "        print(\"GradB\")\n",
    "    elif marks >= 50:\n",
    "        print(\"GradC\")\n",
    "    else:\n",
    "        print(\"GradF\")    \n",
    "else:\n",
    "    print(\"Fail\")    "
   ]
  },
  {
   "cell_type": "code",
   "execution_count": null,
   "id": "2584ab9e",
   "metadata": {},
   "outputs": [
    {
     "name": "stdout",
     "output_type": "stream",
     "text": [
      "is leap year \n"
     ]
    }
   ],
   "source": [
    "#Leap year\n",
    "year = 1900\n",
    "if(year % 4 == 0): # true \n",
    "    if(year % 100 == 0): # true\n",
    "        if(year % 400 == 0): # false\n",
    "          print(\"Leap year\")\n",
    "        else:\n",
    "          print(\"not a leap year \")  \n",
    "    else:\n",
    "       print(\"is a leap year \")\n",
    "       \n",
    "       \n",
    "else:\n",
    "    print(\"Not a leap year\")    "
   ]
  },
  {
   "cell_type": "code",
   "execution_count": null,
   "id": "c176f0d0",
   "metadata": {},
   "outputs": [],
   "source": []
  },
  {
   "cell_type": "markdown",
   "id": "47e32b5e",
   "metadata": {},
   "source": []
  }
 ],
 "metadata": {
  "kernelspec": {
   "display_name": "Python 3",
   "language": "python",
   "name": "python3"
  },
  "language_info": {
   "codemirror_mode": {
    "name": "ipython",
    "version": 3
   },
   "file_extension": ".py",
   "mimetype": "text/x-python",
   "name": "python",
   "nbconvert_exporter": "python",
   "pygments_lexer": "ipython3",
   "version": "3.13.5"
  }
 },
 "nbformat": 4,
 "nbformat_minor": 5
}
