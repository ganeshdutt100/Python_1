{
 "cells": [
  {
   "cell_type": "code",
   "execution_count": null,
   "id": "eb38aa33",
   "metadata": {},
   "outputs": [
    {
     "name": "stdout",
     "output_type": "stream",
     "text": [
      "{1, 2, 3, 4, 5, 6}\n"
     ]
    }
   ],
   "source": [
    "#Sets\n",
    "my_Sets = {1,2,3,4,5,6,3,3}\n",
    "print(my_Sets)\n",
    "\n",
    "fruits = {\"apple\", \"banana\", \"cherry\"}\n",
    "# fruits.add(\"orange\")\n",
    "# fruits.update([\"kiwi\",\"banana\"])\n",
    "# fruits.remove(\"apple\")\n",
    "# fruits.clear()\n",
    "# for fruit in fruits:\n",
    "#     print(fruit)\n",
    "\n",
    "# setValue  = set([1,2,3,4,5,6])\n",
    "# print(setValue)\n",
    "\n",
    "# empty_Set ={}   ❌\n",
    "# empty_Set =set()  ✔️  "
   ]
  },
  {
   "cell_type": "code",
   "execution_count": null,
   "id": "3eff0f4c",
   "metadata": {},
   "outputs": [
    {
     "name": "stdout",
     "output_type": "stream",
     "text": [
      "[1, 2, 3, 4, 5, 6, 7, 8, 9]\n"
     ]
    }
   ],
   "source": [
    "# Set Operations\n",
    "# A = {1,2,3,4,5}\n",
    "# B = {4,5,6,7,8}\n",
    "\n",
    "# print(A.union(B))\n",
    "# print(A.intersection(B))\n",
    "# print(A.difference(B))\n",
    "# print(A.symmetric_difference(B))\n",
    "# A = {1,2,3,4,5}\n",
    "# B = {4,5,6,7,8}\n",
    "\n",
    "# print(A | B)\n",
    "# print(A & B)\n",
    "# print(A - B)\n",
    "# print(A ^ B)\n",
    "\n",
    "# number  = [1,2,3,4,5,6,7,8,9,1,2,3,4,5]\n",
    "# unique_numbers = list(set(number))\n",
    "# print(unique_numbers)"
   ]
  },
  {
   "cell_type": "code",
   "execution_count": 16,
   "id": "e42d32e3",
   "metadata": {},
   "outputs": [
    {
     "name": "stdout",
     "output_type": "stream",
     "text": [
      "{'c@gmail.com,', 'b@gmail.com,', 'a@gmail.com,'}\n"
     ]
    }
   ],
   "source": [
    "# classA = {\"John\", \"Alice\", \"Bob\"}\n",
    "# classB = {\"Bob\", \"Diana\", \"Eve\"}\n",
    "\n",
    "# common  = classA & classB\n",
    "# print(common)\n",
    "\n",
    "\n",
    "emails  = [\"a@gmail.com,\",\"b@gmail.com,\",\"a@gmail.com,\",\"c@gmail.com,\",\"b@gmail.com,\"]\n",
    "emailsList  = set(emails)\n",
    "print(emailsList)"
   ]
  },
  {
   "cell_type": "code",
   "execution_count": null,
   "id": "8919a2f4",
   "metadata": {},
   "outputs": [],
   "source": []
  },
  {
   "cell_type": "code",
   "execution_count": null,
   "id": "fdc87dea",
   "metadata": {},
   "outputs": [],
   "source": []
  }
 ],
 "metadata": {
  "kernelspec": {
   "display_name": "Python 3",
   "language": "python",
   "name": "python3"
  },
  "language_info": {
   "codemirror_mode": {
    "name": "ipython",
    "version": 3
   },
   "file_extension": ".py",
   "mimetype": "text/x-python",
   "name": "python",
   "nbconvert_exporter": "python",
   "pygments_lexer": "ipython3",
   "version": "3.13.7"
  }
 },
 "nbformat": 4,
 "nbformat_minor": 5
}
